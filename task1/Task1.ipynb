{
 "cells": [
  {
   "cell_type": "markdown",
   "id": "b730c074",
   "metadata": {},
   "source": [
    "# TITANIC SURVIVAL PREDICTION"
   ]
  },
  {
   "cell_type": "markdown",
   "id": "4000eda7",
   "metadata": {},
   "source": [
    "# Data Preprocessing"
   ]
  },
  {
   "cell_type": "markdown",
   "id": "d44d18c1",
   "metadata": {},
   "source": [
    "   ### Step 1: Importing required Libraries"
   ]
  },
  {
   "cell_type": "code",
   "execution_count": 72,
   "id": "57ec3b1c",
   "metadata": {},
   "outputs": [],
   "source": [
    "import pandas as pd\n",
    "import numpy as np\n",
    "import matplotlib.pyplot as plt"
   ]
  },
  {
   "cell_type": "markdown",
   "id": "773721c1",
   "metadata": {},
   "source": [
    "   ### Step 2: Loading & Exploring the data"
   ]
  },
  {
   "cell_type": "code",
   "execution_count": 61,
   "id": "d368ef40",
   "metadata": {},
   "outputs": [
    {
     "name": "stdout",
     "output_type": "stream",
     "text": [
      "   PassengerId  Survived  Pclass     Sex   Age  SibSp  Parch     Fare Embarked\n",
      "0            1         0       3    male  22.0      1      0   7.2500        S\n",
      "1            2         1       1  female  38.0      1      0  71.2833        C\n",
      "2            3         1       3  female  26.0      0      0   7.9250        S\n",
      "3            4         1       1  female  35.0      1      0  53.1000        S\n",
      "4            5         0       3    male  35.0      0      0   8.0500        S\n",
      "<class 'pandas.core.frame.DataFrame'>\n",
      "RangeIndex: 891 entries, 0 to 890\n",
      "Data columns (total 9 columns):\n",
      " #   Column       Non-Null Count  Dtype  \n",
      "---  ------       --------------  -----  \n",
      " 0   PassengerId  891 non-null    int64  \n",
      " 1   Survived     891 non-null    int64  \n",
      " 2   Pclass       891 non-null    int64  \n",
      " 3   Sex          891 non-null    object \n",
      " 4   Age          714 non-null    float64\n",
      " 5   SibSp        891 non-null    int64  \n",
      " 6   Parch        891 non-null    int64  \n",
      " 7   Fare         891 non-null    float64\n",
      " 8   Embarked     889 non-null    object \n",
      "dtypes: float64(2), int64(5), object(2)\n",
      "memory usage: 62.8+ KB\n",
      "None\n",
      "PassengerId      0\n",
      "Survived         0\n",
      "Pclass           0\n",
      "Sex              0\n",
      "Age            177\n",
      "SibSp            0\n",
      "Parch            0\n",
      "Fare             0\n",
      "Embarked         2\n",
      "dtype: int64\n",
      "       PassengerId    Survived      Pclass         Age       SibSp  \\\n",
      "count   891.000000  891.000000  891.000000  714.000000  891.000000   \n",
      "mean    446.000000    0.383838    2.308642   29.699118    0.523008   \n",
      "std     257.353842    0.486592    0.836071   14.526497    1.102743   \n",
      "min       1.000000    0.000000    1.000000    0.420000    0.000000   \n",
      "25%     223.500000    0.000000    2.000000   20.125000    0.000000   \n",
      "50%     446.000000    0.000000    3.000000   28.000000    0.000000   \n",
      "75%     668.500000    1.000000    3.000000   38.000000    1.000000   \n",
      "max     891.000000    1.000000    3.000000   80.000000    8.000000   \n",
      "\n",
      "            Parch        Fare  \n",
      "count  891.000000  891.000000  \n",
      "mean     0.381594   32.204208  \n",
      "std      0.806057   49.693429  \n",
      "min      0.000000    0.000000  \n",
      "25%      0.000000    7.910400  \n",
      "50%      0.000000   14.454200  \n",
      "75%      0.000000   31.000000  \n",
      "max      6.000000  512.329200  \n"
     ]
    },
    {
     "data": {
      "text/plain": [
       "(891, 9)"
      ]
     },
     "execution_count": 61,
     "metadata": {},
     "output_type": "execute_result"
    }
   ],
   "source": [
    "# Load the dataset\n",
    "ds = pd.read_csv(\"Titanic-Dataset.csv\")\n",
    "\n",
    "ds = ds.drop(['Name'], axis=1)\n",
    "ds = ds.drop(['Ticket'], axis=1)\n",
    "ds = ds.drop(['Cabin'], axis=1)\n",
    "\n",
    "# Explore the dataset\n",
    "print(ds.head())  # View the first few rows\n",
    "\n",
    "# Get information about data types and missing values\n",
    "print(ds.info())\n",
    "print(ds.isnull().sum())\n",
    "\n",
    "print(ds.describe())  # Get descriptive statistics\n",
    "ds.shape # Display the number of row and column"
   ]
  },
  {
   "cell_type": "markdown",
   "id": "ec14efb2",
   "metadata": {},
   "source": [
    "#### There are 2 columns with missing values which are Age and Cabin. Age is an important feature for our dataset so we can't drop it, but Cabin can't affect the analysis of the datasets. So I've removed the column called Cabin and then removed the missing values in Age."
   ]
  },
  {
   "cell_type": "markdown",
   "id": "5716d718",
   "metadata": {},
   "source": [
    "### Step 3: Handle missing values"
   ]
  },
  {
   "cell_type": "code",
   "execution_count": 62,
   "id": "a818d083",
   "metadata": {},
   "outputs": [
    {
     "name": "stdout",
     "output_type": "stream",
     "text": [
      "     PassengerId  Survived  Pclass     Sex        Age  SibSp  Parch     Fare  \\\n",
      "0              1         0       3    male  22.000000      1      0   7.2500   \n",
      "1              2         1       1  female  38.000000      1      0  71.2833   \n",
      "2              3         1       3  female  26.000000      0      0   7.9250   \n",
      "3              4         1       1  female  35.000000      1      0  53.1000   \n",
      "4              5         0       3    male  35.000000      0      0   8.0500   \n",
      "..           ...       ...     ...     ...        ...    ...    ...      ...   \n",
      "886          887         0       2    male  27.000000      0      0  13.0000   \n",
      "887          888         1       1  female  19.000000      0      0  30.0000   \n",
      "888          889         0       3  female  29.699118      1      2  23.4500   \n",
      "889          890         1       1    male  26.000000      0      0  30.0000   \n",
      "890          891         0       3    male  32.000000      0      0   7.7500   \n",
      "\n",
      "    Embarked  \n",
      "0          S  \n",
      "1          C  \n",
      "2          S  \n",
      "3          S  \n",
      "4          S  \n",
      "..       ...  \n",
      "886        S  \n",
      "887        S  \n",
      "888        S  \n",
      "889        C  \n",
      "890        Q  \n",
      "\n",
      "[889 rows x 9 columns]\n"
     ]
    }
   ],
   "source": [
    "ds[\"Age\"].fillna(ds[\"Age\"].mean(), inplace=True)  # Fill missing ages with mean\n",
    "ds.dropna(inplace=True)  # Drop rows with missing values in other columns\n",
    "\n",
    "print(ds)"
   ]
  },
  {
   "cell_type": "markdown",
   "id": "7638fba5",
   "metadata": {},
   "source": [
    "#### I have filled the missing values in age with the mean and removed the missing values in Cabin"
   ]
  },
  {
   "cell_type": "markdown",
   "id": "548a02a7",
   "metadata": {},
   "source": [
    "### Step 4: Feature Engineering"
   ]
  },
  {
   "cell_type": "code",
   "execution_count": 63,
   "id": "70eabafd",
   "metadata": {},
   "outputs": [
    {
     "name": "stdout",
     "output_type": "stream",
     "text": [
      "     PassengerId  Survived  Pclass  Sex        Age  SibSp  Parch     Fare  \\\n",
      "0              1         0       3    0  22.000000      1      0   7.2500   \n",
      "1              2         1       1    1  38.000000      1      0  71.2833   \n",
      "2              3         1       3    1  26.000000      0      0   7.9250   \n",
      "3              4         1       1    1  35.000000      1      0  53.1000   \n",
      "4              5         0       3    0  35.000000      0      0   8.0500   \n",
      "..           ...       ...     ...  ...        ...    ...    ...      ...   \n",
      "886          887         0       2    0  27.000000      0      0  13.0000   \n",
      "887          888         1       1    1  19.000000      0      0  30.0000   \n",
      "888          889         0       3    1  29.699118      1      2  23.4500   \n",
      "889          890         1       1    0  26.000000      0      0  30.0000   \n",
      "890          891         0       3    0  32.000000      0      0   7.7500   \n",
      "\n",
      "     Embarked  FamilySize  IsAlone  \n",
      "0           0           2    False  \n",
      "1           1           2    False  \n",
      "2           0           1     True  \n",
      "3           0           2    False  \n",
      "4           0           1     True  \n",
      "..        ...         ...      ...  \n",
      "886         0           1     True  \n",
      "887         0           1     True  \n",
      "888         0           4    False  \n",
      "889         1           1     True  \n",
      "890         2           1     True  \n",
      "\n",
      "[889 rows x 11 columns]\n"
     ]
    }
   ],
   "source": [
    "ds[\"FamilySize\"] = ds[\"SibSp\"] + ds[\"Parch\"] + 1  # Creating a new feature/column called family size\n",
    "ds[\"IsAlone\"] = ds[\"FamilySize\"] == 1  # Creating a feature indicating if passenger is traveling alone\n",
    "\n",
    "# Convert categorical features to numerical\n",
    "ds[\"Sex\"] = ds[\"Sex\"].map({\"male\": 0, \"female\": 1})\n",
    "ds[\"Embarked\"] = ds[\"Embarked\"].map({\"S\": 0, \"C\": 1, \"Q\": 2})\n",
    "\n",
    "print(ds)\n",
    "\n",
    "# Split the data into features (X) and target variable (y)\n",
    "X = ds.drop(\"Survived\", axis=1)\n",
    "y = ds[\"Survived\"]\n",
    "\n",
    "# Split the data into training and testing sets\n",
    "X_train, X_test, y_train, y_test = train_test_split(X, y, test_size=0.2, random_state=42)\n",
    "\n",
    "# print(X)"
   ]
  },
  {
   "cell_type": "markdown",
   "id": "fb437238",
   "metadata": {},
   "source": [
    "#### I have converted categorical features (\"Sex\" and \"Embarked\") into numerical values, split the data into features (X) and target variable (y), and further divided the data into training and testing sets using the scikit-learn library."
   ]
  },
  {
   "cell_type": "markdown",
   "id": "88590c5c",
   "metadata": {},
   "source": [
    "# Model Building & Evaluation"
   ]
  },
  {
   "cell_type": "code",
   "execution_count": 74,
   "id": "4832683c",
   "metadata": {},
   "outputs": [
    {
     "name": "stderr",
     "output_type": "stream",
     "text": [
      "/root/anaconda3/lib/python3.11/site-packages/sklearn/linear_model/_logistic.py:460: ConvergenceWarning: lbfgs failed to converge (status=1):\n",
      "STOP: TOTAL NO. of ITERATIONS REACHED LIMIT.\n",
      "\n",
      "Increase the number of iterations (max_iter) or scale the data as shown in:\n",
      "    https://scikit-learn.org/stable/modules/preprocessing.html\n",
      "Please also refer to the documentation for alternative solver options:\n",
      "    https://scikit-learn.org/stable/modules/linear_model.html#logistic-regression\n",
      "  n_iter_i = _check_optimize_result(\n",
      "/root/anaconda3/lib/python3.11/site-packages/sklearn/linear_model/_logistic.py:460: ConvergenceWarning: lbfgs failed to converge (status=1):\n",
      "STOP: TOTAL NO. of ITERATIONS REACHED LIMIT.\n",
      "\n",
      "Increase the number of iterations (max_iter) or scale the data as shown in:\n",
      "    https://scikit-learn.org/stable/modules/preprocessing.html\n",
      "Please also refer to the documentation for alternative solver options:\n",
      "    https://scikit-learn.org/stable/modules/linear_model.html#logistic-regression\n",
      "  n_iter_i = _check_optimize_result(\n",
      "/root/anaconda3/lib/python3.11/site-packages/sklearn/linear_model/_logistic.py:460: ConvergenceWarning: lbfgs failed to converge (status=1):\n",
      "STOP: TOTAL NO. of ITERATIONS REACHED LIMIT.\n",
      "\n",
      "Increase the number of iterations (max_iter) or scale the data as shown in:\n",
      "    https://scikit-learn.org/stable/modules/preprocessing.html\n",
      "Please also refer to the documentation for alternative solver options:\n",
      "    https://scikit-learn.org/stable/modules/linear_model.html#logistic-regression\n",
      "  n_iter_i = _check_optimize_result(\n",
      "/root/anaconda3/lib/python3.11/site-packages/sklearn/linear_model/_logistic.py:460: ConvergenceWarning: lbfgs failed to converge (status=1):\n",
      "STOP: TOTAL NO. of ITERATIONS REACHED LIMIT.\n",
      "\n",
      "Increase the number of iterations (max_iter) or scale the data as shown in:\n",
      "    https://scikit-learn.org/stable/modules/preprocessing.html\n",
      "Please also refer to the documentation for alternative solver options:\n",
      "    https://scikit-learn.org/stable/modules/linear_model.html#logistic-regression\n",
      "  n_iter_i = _check_optimize_result(\n",
      "/root/anaconda3/lib/python3.11/site-packages/sklearn/linear_model/_logistic.py:460: ConvergenceWarning: lbfgs failed to converge (status=1):\n",
      "STOP: TOTAL NO. of ITERATIONS REACHED LIMIT.\n",
      "\n",
      "Increase the number of iterations (max_iter) or scale the data as shown in:\n",
      "    https://scikit-learn.org/stable/modules/preprocessing.html\n",
      "Please also refer to the documentation for alternative solver options:\n",
      "    https://scikit-learn.org/stable/modules/linear_model.html#logistic-regression\n",
      "  n_iter_i = _check_optimize_result(\n",
      "/root/anaconda3/lib/python3.11/site-packages/sklearn/linear_model/_logistic.py:460: ConvergenceWarning: lbfgs failed to converge (status=1):\n",
      "STOP: TOTAL NO. of ITERATIONS REACHED LIMIT.\n",
      "\n",
      "Increase the number of iterations (max_iter) or scale the data as shown in:\n",
      "    https://scikit-learn.org/stable/modules/preprocessing.html\n",
      "Please also refer to the documentation for alternative solver options:\n",
      "    https://scikit-learn.org/stable/modules/linear_model.html#logistic-regression\n",
      "  n_iter_i = _check_optimize_result(\n"
     ]
    },
    {
     "name": "stdout",
     "output_type": "stream",
     "text": [
      "Logistic Regression: Mean accuracy: 0.797\n",
      "Decision Tree: Mean accuracy: 0.740\n",
      "Random Forest: Mean accuracy: 0.831\n",
      "Gradient Boosting: Mean accuracy: 0.826\n",
      "KNN: Mean accuracy: 0.624\n",
      "\n",
      "Evaluation on testing set:\n",
      "Accuracy: 0.7359550561797753\n",
      "Precision: 0.6410256410256411\n",
      "Recall: 0.7246376811594203\n",
      "F1-score: 0.6802721088435374\n"
     ]
    }
   ],
   "source": [
    "from sklearn.linear_model import LogisticRegression\n",
    "from sklearn.tree import DecisionTreeClassifier\n",
    "from sklearn.ensemble import RandomForestClassifier, GradientBoostingClassifier\n",
    "from sklearn.neighbors import KNeighborsClassifier\n",
    "from sklearn.model_selection import cross_val_score, GridSearchCV, train_test_split\n",
    "from sklearn.metrics import accuracy_score, precision_score, recall_score, f1_score\n",
    "\n",
    "# Train different models\n",
    "models = {\n",
    "    \"Logistic Regression\": LogisticRegression(),\n",
    "    \"Decision Tree\": DecisionTreeClassifier(),\n",
    "    \"Random Forest\": RandomForestClassifier(),\n",
    "    \"Gradient Boosting\": GradientBoostingClassifier(),\n",
    "    \"KNN\": KNeighborsClassifier(),\n",
    "}\n",
    "\n",
    "# Train and evaluate each model using cross-validation\n",
    "for name, model in models.items():\n",
    "    model.fit(X_train, y_train)# Fit the model before cross-validation (crucial step!)\n",
    "    scores = cross_val_score(model, X_train, y_train, cv=5, scoring=\"accuracy\")\n",
    "    mean_score = scores.mean()\n",
    "    print(f\"{name}: Mean accuracy: {mean_score:.3f}\")\n",
    "    \n",
    "# Choose the best-performing model based on cross-validation results\n",
    "best_model_name, best_model = max(models.items(), key=lambda item: item[1].score(X_train, y_train))\n",
    "\n",
    "# Hyperparameter tuning for the best model (example with Random Forest)\n",
    "if best_model_name == \"Random Forest\":\n",
    "    param_grid = {\n",
    "        \"n_estimators\": [100, 200, 300],\n",
    "        \"max_depth\": [5, 8, 10],\n",
    "    }\n",
    "    grid_search = GridSearchCV(best_model, param_grid, cv=5)\n",
    "    grid_search.fit(X_train, y_train)\n",
    "    best_model = grid_search.best_estimator_\n",
    "\n",
    "# Train the best model on the full training set\n",
    "best_model.fit(X_train, y_train)\n",
    "\n",
    "# Make predictions on the testing set\n",
    "y_pred = best_model.predict(X_test)\n",
    "\n",
    "# Evaluate the model's performance on the testing set\n",
    "print(\"\\nEvaluation on testing set:\")\n",
    "print(\"Accuracy:\", accuracy_score(y_test, y_pred))\n",
    "print(\"Precision:\", precision_score(y_test, y_pred))\n",
    "print(\"Recall:\", recall_score(y_test, y_pred))\n",
    "print(\"F1-score:\", f1_score(y_test, y_pred))"
   ]
  },
  {
   "cell_type": "markdown",
   "id": "1e7f192f",
   "metadata": {},
   "source": [
    "# Analysis and Interpretation"
   ]
  },
  {
   "cell_type": "code",
   "execution_count": 76,
   "id": "a1f06a40",
   "metadata": {},
   "outputs": [
    {
     "data": {
      "image/png": "[encoded data removed]",
      "text/plain": [
       "<Figure size 640x480 with 1 Axes>"
      ]
     },
     "metadata": {},
     "output_type": "display_data"
    },
    {
     "name": "stdout",
     "output_type": "stream",
     "text": [
      "Feature importances:\n",
      "\n",
      "Sex: 0.2838\n",
      "PassengerId: 0.1859\n",
      "Fare: 0.1820\n",
      "Age: 0.1487\n",
      "Pclass: 0.0910\n",
      "FamilySize: 0.0521\n",
      "SibSp: 0.0294\n",
      "Embarked: 0.0101\n",
      "Parch: 0.0086\n",
      "IsAlone: 0.0083\n"
     ]
    }
   ],
   "source": [
    "# Choose the best-performing model based on cross-validation results\n",
    "best_model_name, best_model = max(models.items(), key=lambda item: item[1].score(X_train, y_train))\n",
    "\n",
    "# Feature importance analysis (adjusted for DecisionTreeClassifier)\n",
    "if hasattr(best_model, 'feature_importances_'):\n",
    "    importances = best_model.feature_importances_\n",
    "    indices = np.argsort(importances)[::-1]\n",
    "\n",
    "    # Plot the feature importances (no need for std calculation as there's a single tree)\n",
    "    plt.figure()\n",
    "    plt.title(\"Feature importances\")\n",
    "    plt.bar(range(X_test.shape[1]), importances[indices], color=\"r\", align=\"center\")\n",
    "    plt.xticks(range(X_test.shape[1]), X_test.columns[indices], rotation=45, ha=\"right\")\n",
    "    plt.xlim([-1, X_test.shape[1]])\n",
    "    plt.show()\n",
    "\n",
    "    # Print feature importances in a table\n",
    "    print(\"Feature importances:\\n\")\n",
    "    for feature, importance in zip(X_test.columns[indices], importances[indices]):\n",
    "        print(f\"{feature}: {importance:.4f}\")\n",
    "\n",
    "else:\n",
    "    print(\"Feature importances are not available for the chosen model type.\")"
   ]
  },
  {
   "cell_type": "code",
   "execution_count": null,
   "id": "8fea1a00",
   "metadata": {},
   "outputs": [],
   "source": []
  }
 ],
 "metadata": {
  "kernelspec": {
   "display_name": "Python 3 (ipykernel)",
   "language": "python",
   "name": "python3"
  },
  "language_info": {
   "codemirror_mode": {
    "name": "ipython",
    "version": 3
   },
   "file_extension": ".py",
   "mimetype": "text/x-python",
   "name": "python",
   "nbconvert_exporter": "python",
   "pygments_lexer": "ipython3",
   "version": "3.11.5"
  }
 },
 "nbformat": 4,
 "nbformat_minor": 5
}
